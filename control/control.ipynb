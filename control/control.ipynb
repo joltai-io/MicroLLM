{
 "cells": [
  {
   "cell_type": "markdown",
   "id": "19f813ba",
   "metadata": {},
   "source": [
    "Import and Install Required Packages"
   ]
  },
  {
   "cell_type": "code",
   "execution_count": null,
   "id": "532b1fb0-6de6-4ce3-9f65-2d83622d597c",
   "metadata": {},
   "outputs": [
    {
     "name": "stdout",
     "output_type": "stream",
     "text": [
      "Requirement already satisfied: langchain in /Users/robbuckley/code/MicroLLM/.venv/lib/python3.12/site-packages (0.1.0)\n",
      "Requirement already satisfied: PyYAML>=5.3 in /Users/robbuckley/code/MicroLLM/.venv/lib/python3.12/site-packages (from langchain) (6.0.1)\n",
      "Requirement already satisfied: SQLAlchemy<3,>=1.4 in /Users/robbuckley/code/MicroLLM/.venv/lib/python3.12/site-packages (from langchain) (2.0.25)\n",
      "Requirement already satisfied: aiohttp<4.0.0,>=3.8.3 in /Users/robbuckley/code/MicroLLM/.venv/lib/python3.12/site-packages (from langchain) (3.9.1)\n",
      "Requirement already satisfied: dataclasses-json<0.7,>=0.5.7 in /Users/robbuckley/code/MicroLLM/.venv/lib/python3.12/site-packages (from langchain) (0.6.3)\n",
      "Requirement already satisfied: jsonpatch<2.0,>=1.33 in /Users/robbuckley/code/MicroLLM/.venv/lib/python3.12/site-packages (from langchain) (1.33)\n",
      "Requirement already satisfied: langchain-community<0.1,>=0.0.9 in /Users/robbuckley/code/MicroLLM/.venv/lib/python3.12/site-packages (from langchain) (0.0.12)\n",
      "Requirement already satisfied: langchain-core<0.2,>=0.1.7 in /Users/robbuckley/code/MicroLLM/.venv/lib/python3.12/site-packages (from langchain) (0.1.10)\n",
      "Requirement already satisfied: langsmith<0.1.0,>=0.0.77 in /Users/robbuckley/code/MicroLLM/.venv/lib/python3.12/site-packages (from langchain) (0.0.80)\n",
      "Requirement already satisfied: numpy<2,>=1 in /Users/robbuckley/code/MicroLLM/.venv/lib/python3.12/site-packages (from langchain) (1.26.3)\n",
      "Requirement already satisfied: pydantic<3,>=1 in /Users/robbuckley/code/MicroLLM/.venv/lib/python3.12/site-packages (from langchain) (2.5.3)\n",
      "Requirement already satisfied: requests<3,>=2 in /Users/robbuckley/code/MicroLLM/.venv/lib/python3.12/site-packages (from langchain) (2.31.0)\n",
      "Requirement already satisfied: tenacity<9.0.0,>=8.1.0 in /Users/robbuckley/code/MicroLLM/.venv/lib/python3.12/site-packages (from langchain) (8.2.3)\n",
      "Requirement already satisfied: attrs>=17.3.0 in /Users/robbuckley/code/MicroLLM/.venv/lib/python3.12/site-packages (from aiohttp<4.0.0,>=3.8.3->langchain) (23.2.0)\n",
      "Requirement already satisfied: multidict<7.0,>=4.5 in /Users/robbuckley/code/MicroLLM/.venv/lib/python3.12/site-packages (from aiohttp<4.0.0,>=3.8.3->langchain) (6.0.4)\n",
      "Requirement already satisfied: yarl<2.0,>=1.0 in /Users/robbuckley/code/MicroLLM/.venv/lib/python3.12/site-packages (from aiohttp<4.0.0,>=3.8.3->langchain) (1.9.4)\n",
      "Requirement already satisfied: frozenlist>=1.1.1 in /Users/robbuckley/code/MicroLLM/.venv/lib/python3.12/site-packages (from aiohttp<4.0.0,>=3.8.3->langchain) (1.4.1)\n",
      "Requirement already satisfied: aiosignal>=1.1.2 in /Users/robbuckley/code/MicroLLM/.venv/lib/python3.12/site-packages (from aiohttp<4.0.0,>=3.8.3->langchain) (1.3.1)\n",
      "Requirement already satisfied: marshmallow<4.0.0,>=3.18.0 in /Users/robbuckley/code/MicroLLM/.venv/lib/python3.12/site-packages (from dataclasses-json<0.7,>=0.5.7->langchain) (3.20.2)\n",
      "Requirement already satisfied: typing-inspect<1,>=0.4.0 in /Users/robbuckley/code/MicroLLM/.venv/lib/python3.12/site-packages (from dataclasses-json<0.7,>=0.5.7->langchain) (0.9.0)\n",
      "Requirement already satisfied: jsonpointer>=1.9 in /Users/robbuckley/code/MicroLLM/.venv/lib/python3.12/site-packages (from jsonpatch<2.0,>=1.33->langchain) (2.4)\n",
      "Requirement already satisfied: anyio<5,>=3 in /Users/robbuckley/code/MicroLLM/.venv/lib/python3.12/site-packages (from langchain-core<0.2,>=0.1.7->langchain) (4.2.0)\n",
      "Requirement already satisfied: packaging<24.0,>=23.2 in /Users/robbuckley/code/MicroLLM/.venv/lib/python3.12/site-packages (from langchain-core<0.2,>=0.1.7->langchain) (23.2)\n",
      "Requirement already satisfied: annotated-types>=0.4.0 in /Users/robbuckley/code/MicroLLM/.venv/lib/python3.12/site-packages (from pydantic<3,>=1->langchain) (0.6.0)\n",
      "Requirement already satisfied: pydantic-core==2.14.6 in /Users/robbuckley/code/MicroLLM/.venv/lib/python3.12/site-packages (from pydantic<3,>=1->langchain) (2.14.6)\n",
      "Requirement already satisfied: typing-extensions>=4.6.1 in /Users/robbuckley/code/MicroLLM/.venv/lib/python3.12/site-packages (from pydantic<3,>=1->langchain) (4.9.0)\n",
      "Requirement already satisfied: charset-normalizer<4,>=2 in /Users/robbuckley/code/MicroLLM/.venv/lib/python3.12/site-packages (from requests<3,>=2->langchain) (3.3.2)\n",
      "Requirement already satisfied: idna<4,>=2.5 in /Users/robbuckley/code/MicroLLM/.venv/lib/python3.12/site-packages (from requests<3,>=2->langchain) (3.6)\n",
      "Requirement already satisfied: urllib3<3,>=1.21.1 in /Users/robbuckley/code/MicroLLM/.venv/lib/python3.12/site-packages (from requests<3,>=2->langchain) (2.1.0)\n",
      "Requirement already satisfied: certifi>=2017.4.17 in /Users/robbuckley/code/MicroLLM/.venv/lib/python3.12/site-packages (from requests<3,>=2->langchain) (2023.11.17)\n",
      "Requirement already satisfied: sniffio>=1.1 in /Users/robbuckley/code/MicroLLM/.venv/lib/python3.12/site-packages (from anyio<5,>=3->langchain-core<0.2,>=0.1.7->langchain) (1.3.0)\n",
      "Requirement already satisfied: mypy-extensions>=0.3.0 in /Users/robbuckley/code/MicroLLM/.venv/lib/python3.12/site-packages (from typing-inspect<1,>=0.4.0->dataclasses-json<0.7,>=0.5.7->langchain) (1.0.0)\n",
      "Note: you may need to restart the kernel to use updated packages.\n",
      "Requirement already satisfied: langchain-openai in /Users/robbuckley/code/MicroLLM/.venv/lib/python3.12/site-packages (0.0.2.post1)\n",
      "Requirement already satisfied: langchain-core<0.2,>=0.1.7 in /Users/robbuckley/code/MicroLLM/.venv/lib/python3.12/site-packages (from langchain-openai) (0.1.10)\n",
      "Requirement already satisfied: numpy<2,>=1 in /Users/robbuckley/code/MicroLLM/.venv/lib/python3.12/site-packages (from langchain-openai) (1.26.3)\n",
      "Requirement already satisfied: openai<2.0.0,>=1.6.1 in /Users/robbuckley/code/MicroLLM/.venv/lib/python3.12/site-packages (from langchain-openai) (1.7.2)\n",
      "Requirement already satisfied: tiktoken<0.6.0,>=0.5.2 in /Users/robbuckley/code/MicroLLM/.venv/lib/python3.12/site-packages (from langchain-openai) (0.5.2)\n",
      "Requirement already satisfied: PyYAML>=5.3 in /Users/robbuckley/code/MicroLLM/.venv/lib/python3.12/site-packages (from langchain-core<0.2,>=0.1.7->langchain-openai) (6.0.1)\n",
      "Requirement already satisfied: anyio<5,>=3 in /Users/robbuckley/code/MicroLLM/.venv/lib/python3.12/site-packages (from langchain-core<0.2,>=0.1.7->langchain-openai) (4.2.0)\n",
      "Requirement already satisfied: jsonpatch<2.0,>=1.33 in /Users/robbuckley/code/MicroLLM/.venv/lib/python3.12/site-packages (from langchain-core<0.2,>=0.1.7->langchain-openai) (1.33)\n",
      "Requirement already satisfied: langsmith<0.1.0,>=0.0.63 in /Users/robbuckley/code/MicroLLM/.venv/lib/python3.12/site-packages (from langchain-core<0.2,>=0.1.7->langchain-openai) (0.0.80)\n",
      "Requirement already satisfied: packaging<24.0,>=23.2 in /Users/robbuckley/code/MicroLLM/.venv/lib/python3.12/site-packages (from langchain-core<0.2,>=0.1.7->langchain-openai) (23.2)\n",
      "Requirement already satisfied: pydantic<3,>=1 in /Users/robbuckley/code/MicroLLM/.venv/lib/python3.12/site-packages (from langchain-core<0.2,>=0.1.7->langchain-openai) (2.5.3)\n",
      "Requirement already satisfied: requests<3,>=2 in /Users/robbuckley/code/MicroLLM/.venv/lib/python3.12/site-packages (from langchain-core<0.2,>=0.1.7->langchain-openai) (2.31.0)\n",
      "Requirement already satisfied: tenacity<9.0.0,>=8.1.0 in /Users/robbuckley/code/MicroLLM/.venv/lib/python3.12/site-packages (from langchain-core<0.2,>=0.1.7->langchain-openai) (8.2.3)\n",
      "Requirement already satisfied: distro<2,>=1.7.0 in /Users/robbuckley/code/MicroLLM/.venv/lib/python3.12/site-packages (from openai<2.0.0,>=1.6.1->langchain-openai) (1.9.0)\n",
      "Requirement already satisfied: httpx<1,>=0.23.0 in /Users/robbuckley/code/MicroLLM/.venv/lib/python3.12/site-packages (from openai<2.0.0,>=1.6.1->langchain-openai) (0.26.0)\n",
      "Requirement already satisfied: sniffio in /Users/robbuckley/code/MicroLLM/.venv/lib/python3.12/site-packages (from openai<2.0.0,>=1.6.1->langchain-openai) (1.3.0)\n",
      "Requirement already satisfied: tqdm>4 in /Users/robbuckley/code/MicroLLM/.venv/lib/python3.12/site-packages (from openai<2.0.0,>=1.6.1->langchain-openai) (4.66.1)\n",
      "Requirement already satisfied: typing-extensions<5,>=4.7 in /Users/robbuckley/code/MicroLLM/.venv/lib/python3.12/site-packages (from openai<2.0.0,>=1.6.1->langchain-openai) (4.9.0)\n",
      "Requirement already satisfied: regex>=2022.1.18 in /Users/robbuckley/code/MicroLLM/.venv/lib/python3.12/site-packages (from tiktoken<0.6.0,>=0.5.2->langchain-openai) (2023.12.25)\n",
      "Requirement already satisfied: idna>=2.8 in /Users/robbuckley/code/MicroLLM/.venv/lib/python3.12/site-packages (from anyio<5,>=3->langchain-core<0.2,>=0.1.7->langchain-openai) (3.6)\n",
      "Requirement already satisfied: certifi in /Users/robbuckley/code/MicroLLM/.venv/lib/python3.12/site-packages (from httpx<1,>=0.23.0->openai<2.0.0,>=1.6.1->langchain-openai) (2023.11.17)\n",
      "Requirement already satisfied: httpcore==1.* in /Users/robbuckley/code/MicroLLM/.venv/lib/python3.12/site-packages (from httpx<1,>=0.23.0->openai<2.0.0,>=1.6.1->langchain-openai) (1.0.2)\n",
      "Requirement already satisfied: h11<0.15,>=0.13 in /Users/robbuckley/code/MicroLLM/.venv/lib/python3.12/site-packages (from httpcore==1.*->httpx<1,>=0.23.0->openai<2.0.0,>=1.6.1->langchain-openai) (0.14.0)\n",
      "Requirement already satisfied: jsonpointer>=1.9 in /Users/robbuckley/code/MicroLLM/.venv/lib/python3.12/site-packages (from jsonpatch<2.0,>=1.33->langchain-core<0.2,>=0.1.7->langchain-openai) (2.4)\n",
      "Requirement already satisfied: annotated-types>=0.4.0 in /Users/robbuckley/code/MicroLLM/.venv/lib/python3.12/site-packages (from pydantic<3,>=1->langchain-core<0.2,>=0.1.7->langchain-openai) (0.6.0)\n",
      "Requirement already satisfied: pydantic-core==2.14.6 in /Users/robbuckley/code/MicroLLM/.venv/lib/python3.12/site-packages (from pydantic<3,>=1->langchain-core<0.2,>=0.1.7->langchain-openai) (2.14.6)\n",
      "Requirement already satisfied: charset-normalizer<4,>=2 in /Users/robbuckley/code/MicroLLM/.venv/lib/python3.12/site-packages (from requests<3,>=2->langchain-core<0.2,>=0.1.7->langchain-openai) (3.3.2)\n",
      "Requirement already satisfied: urllib3<3,>=1.21.1 in /Users/robbuckley/code/MicroLLM/.venv/lib/python3.12/site-packages (from requests<3,>=2->langchain-core<0.2,>=0.1.7->langchain-openai) (2.1.0)\n",
      "Note: you may need to restart the kernel to use updated packages.\n",
      "Requirement already satisfied: python-dotenv in /Users/robbuckley/code/MicroLLM/.venv/lib/python3.12/site-packages (1.0.0)\n",
      "Note: you may need to restart the kernel to use updated packages.\n",
      "Requirement already satisfied: langchain-mistralai in /Users/robbuckley/code/MicroLLM/.venv/lib/python3.12/site-packages (0.0.2.post1)\n",
      "Requirement already satisfied: langchain-core<0.2,>=0.1 in /Users/robbuckley/code/MicroLLM/.venv/lib/python3.12/site-packages (from langchain-mistralai) (0.1.10)\n",
      "Requirement already satisfied: mistralai<0.0.9,>=0.0.8 in /Users/robbuckley/code/MicroLLM/.venv/lib/python3.12/site-packages (from langchain-mistralai) (0.0.8)\n",
      "Requirement already satisfied: PyYAML>=5.3 in /Users/robbuckley/code/MicroLLM/.venv/lib/python3.12/site-packages (from langchain-core<0.2,>=0.1->langchain-mistralai) (6.0.1)\n",
      "Requirement already satisfied: anyio<5,>=3 in /Users/robbuckley/code/MicroLLM/.venv/lib/python3.12/site-packages (from langchain-core<0.2,>=0.1->langchain-mistralai) (4.2.0)\n",
      "Requirement already satisfied: jsonpatch<2.0,>=1.33 in /Users/robbuckley/code/MicroLLM/.venv/lib/python3.12/site-packages (from langchain-core<0.2,>=0.1->langchain-mistralai) (1.33)\n",
      "Requirement already satisfied: langsmith<0.1.0,>=0.0.63 in /Users/robbuckley/code/MicroLLM/.venv/lib/python3.12/site-packages (from langchain-core<0.2,>=0.1->langchain-mistralai) (0.0.80)\n",
      "Requirement already satisfied: packaging<24.0,>=23.2 in /Users/robbuckley/code/MicroLLM/.venv/lib/python3.12/site-packages (from langchain-core<0.2,>=0.1->langchain-mistralai) (23.2)\n",
      "Requirement already satisfied: pydantic<3,>=1 in /Users/robbuckley/code/MicroLLM/.venv/lib/python3.12/site-packages (from langchain-core<0.2,>=0.1->langchain-mistralai) (2.5.3)\n",
      "Requirement already satisfied: requests<3,>=2 in /Users/robbuckley/code/MicroLLM/.venv/lib/python3.12/site-packages (from langchain-core<0.2,>=0.1->langchain-mistralai) (2.31.0)\n",
      "Requirement already satisfied: tenacity<9.0.0,>=8.1.0 in /Users/robbuckley/code/MicroLLM/.venv/lib/python3.12/site-packages (from langchain-core<0.2,>=0.1->langchain-mistralai) (8.2.3)\n",
      "Requirement already satisfied: aiohttp<4.0.0,>=3.9.1 in /Users/robbuckley/code/MicroLLM/.venv/lib/python3.12/site-packages (from mistralai<0.0.9,>=0.0.8->langchain-mistralai) (3.9.1)\n",
      "Requirement already satisfied: backoff<3.0.0,>=2.2.1 in /Users/robbuckley/code/MicroLLM/.venv/lib/python3.12/site-packages (from mistralai<0.0.9,>=0.0.8->langchain-mistralai) (2.2.1)\n",
      "Requirement already satisfied: orjson<4.0.0,>=3.9.10 in /Users/robbuckley/code/MicroLLM/.venv/lib/python3.12/site-packages (from mistralai<0.0.9,>=0.0.8->langchain-mistralai) (3.9.10)\n",
      "Requirement already satisfied: attrs>=17.3.0 in /Users/robbuckley/code/MicroLLM/.venv/lib/python3.12/site-packages (from aiohttp<4.0.0,>=3.9.1->mistralai<0.0.9,>=0.0.8->langchain-mistralai) (23.2.0)\n",
      "Requirement already satisfied: multidict<7.0,>=4.5 in /Users/robbuckley/code/MicroLLM/.venv/lib/python3.12/site-packages (from aiohttp<4.0.0,>=3.9.1->mistralai<0.0.9,>=0.0.8->langchain-mistralai) (6.0.4)\n",
      "Requirement already satisfied: yarl<2.0,>=1.0 in /Users/robbuckley/code/MicroLLM/.venv/lib/python3.12/site-packages (from aiohttp<4.0.0,>=3.9.1->mistralai<0.0.9,>=0.0.8->langchain-mistralai) (1.9.4)\n",
      "Requirement already satisfied: frozenlist>=1.1.1 in /Users/robbuckley/code/MicroLLM/.venv/lib/python3.12/site-packages (from aiohttp<4.0.0,>=3.9.1->mistralai<0.0.9,>=0.0.8->langchain-mistralai) (1.4.1)\n",
      "Requirement already satisfied: aiosignal>=1.1.2 in /Users/robbuckley/code/MicroLLM/.venv/lib/python3.12/site-packages (from aiohttp<4.0.0,>=3.9.1->mistralai<0.0.9,>=0.0.8->langchain-mistralai) (1.3.1)\n",
      "Requirement already satisfied: idna>=2.8 in /Users/robbuckley/code/MicroLLM/.venv/lib/python3.12/site-packages (from anyio<5,>=3->langchain-core<0.2,>=0.1->langchain-mistralai) (3.6)\n",
      "Requirement already satisfied: sniffio>=1.1 in /Users/robbuckley/code/MicroLLM/.venv/lib/python3.12/site-packages (from anyio<5,>=3->langchain-core<0.2,>=0.1->langchain-mistralai) (1.3.0)\n",
      "Requirement already satisfied: jsonpointer>=1.9 in /Users/robbuckley/code/MicroLLM/.venv/lib/python3.12/site-packages (from jsonpatch<2.0,>=1.33->langchain-core<0.2,>=0.1->langchain-mistralai) (2.4)\n",
      "Requirement already satisfied: annotated-types>=0.4.0 in /Users/robbuckley/code/MicroLLM/.venv/lib/python3.12/site-packages (from pydantic<3,>=1->langchain-core<0.2,>=0.1->langchain-mistralai) (0.6.0)\n",
      "Requirement already satisfied: pydantic-core==2.14.6 in /Users/robbuckley/code/MicroLLM/.venv/lib/python3.12/site-packages (from pydantic<3,>=1->langchain-core<0.2,>=0.1->langchain-mistralai) (2.14.6)\n",
      "Requirement already satisfied: typing-extensions>=4.6.1 in /Users/robbuckley/code/MicroLLM/.venv/lib/python3.12/site-packages (from pydantic<3,>=1->langchain-core<0.2,>=0.1->langchain-mistralai) (4.9.0)\n",
      "Requirement already satisfied: charset-normalizer<4,>=2 in /Users/robbuckley/code/MicroLLM/.venv/lib/python3.12/site-packages (from requests<3,>=2->langchain-core<0.2,>=0.1->langchain-mistralai) (3.3.2)\n",
      "Requirement already satisfied: urllib3<3,>=1.21.1 in /Users/robbuckley/code/MicroLLM/.venv/lib/python3.12/site-packages (from requests<3,>=2->langchain-core<0.2,>=0.1->langchain-mistralai) (2.1.0)\n",
      "Requirement already satisfied: certifi>=2017.4.17 in /Users/robbuckley/code/MicroLLM/.venv/lib/python3.12/site-packages (from requests<3,>=2->langchain-core<0.2,>=0.1->langchain-mistralai) (2023.11.17)\n",
      "Note: you may need to restart the kernel to use updated packages.\n"
     ]
    }
   ],
   "source": [
    "%pip install langchain\n",
    "%pip install langchain-openai\n",
    "%pip install python-dotenv\n",
    "%pip install langchain-mistralai\n",
    "\n",
    "from langchain.vectorstores import FAISS\n",
    "from langchain.embeddings.openai import OpenAIEmbeddings\n",
    "from langchain_core.messages import HumanMessage\n",
    "from langchain_mistralai.chat_models import ChatMistralAI\n",
    "from dotenv import load_dotenv\n",
    "import os\n"
   ]
  },
  {
   "cell_type": "markdown",
   "id": "0bc3bbc7",
   "metadata": {},
   "source": [
    "Import OpenAPI Key"
   ]
  },
  {
   "cell_type": "code",
   "execution_count": null,
   "id": "fd904f37",
   "metadata": {},
   "outputs": [],
   "source": [
    "\n",
    "load_dotenv()\n",
    "mistral_api_key = os.getenv('MISTRAL_API_KEY')"
   ]
  },
  {
   "cell_type": "markdown",
   "id": "593461c4",
   "metadata": {},
   "source": [
    "Control Test 1: Validate bitcoin data from 15th January is not returned"
   ]
  },
  {
   "cell_type": "code",
   "execution_count": 39,
   "id": "53654962",
   "metadata": {},
   "outputs": [
    {
     "data": {
      "text/plain": [
       "AIMessage(content='I cannot provide an answer to that question as I am an artificial intelligence and do not have the ability to access real-time or historical data or information outside of what is programmed into me. Additionally, I cannot predict future prices of Bitcoin or any other asset as the price is determined by market supply and demand and other complex economic factors.')"
      ]
     },
     "execution_count": 39,
     "metadata": {},
     "output_type": "execute_result"
    }
   ],
   "source": [
    "chat = ChatMistralAI(mistral_api_key=mistral_api_key, model='mistral-tiny' )\n",
    "# We will need to update this when the model is updated\n",
    "messages = [HumanMessage(content=\"What was the price of bitcoin on the 15th of January 2024?\")]\n",
    "chat.invoke(messages)"
   ]
  },
  {
   "cell_type": "markdown",
   "id": "aa5b3734",
   "metadata": {},
   "source": [
    "Control Test 2: Verify the premier league results on the weekend of the 14th of Januray aren't availble"
   ]
  },
  {
   "cell_type": "code",
   "execution_count": 40,
   "id": "df1d4886",
   "metadata": {},
   "outputs": [
    {
     "data": {
      "text/plain": [
       "AIMessage(content=\"Hello there! It's nice to make your acquaintance. If you have any questions or need assistance with something, feel free to ask. I'm here to help. Have a great day!\")"
      ]
     },
     "execution_count": 40,
     "metadata": {},
     "output_type": "execute_result"
    }
   ],
   "source": [
    "messages = [HumanMessage(content=\"What were the results in the English football premier league on the weekend of the 12th of January 2024\")]\n",
    "chat.invoke(messages)"
   ]
  }
 ],
 "metadata": {
  "kernelspec": {
   "display_name": "Python 3 (ipykernel)",
   "language": "python",
   "name": "python3"
  },
  "language_info": {
   "codemirror_mode": {
    "name": "ipython",
    "version": 3
   },
   "file_extension": ".py",
   "mimetype": "text/x-python",
   "name": "python",
   "nbconvert_exporter": "python",
   "pygments_lexer": "ipython3",
   "version": "3.12.1"
  }
 },
 "nbformat": 4,
 "nbformat_minor": 5
}
