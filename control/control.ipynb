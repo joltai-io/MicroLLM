{
 "cells": [
  {
   "cell_type": "markdown",
   "id": "19f813ba",
   "metadata": {},
   "source": [
    "Import and Install Required Packages"
   ]
  },
  {
   "cell_type": "code",
   "execution_count": null,
   "id": "532b1fb0-6de6-4ce3-9f65-2d83622d597c",
   "metadata": {},
   "outputs": [],
   "source": [
    "%pip install langchain\n",
    "%pip install langchain-openai\n",
    "%pip install python-dotenv\n",
    "%pip install langchain-mistralai\n",
    "\n",
    "from langchain.vectorstores import FAISS\n",
    "from langchain.embeddings.openai import OpenAIEmbeddings\n",
    "from langchain_core.messages import HumanMessage\n",
    "from langchain_mistralai.chat_models import ChatMistralAI\n",
    "from dotenv import load_dotenv\n",
    "import os\n"
   ]
  },
  {
   "cell_type": "markdown",
   "id": "0bc3bbc7",
   "metadata": {},
   "source": [
    "Import OpenAPI Key"
   ]
  },
  {
   "cell_type": "code",
   "execution_count": 2,
   "id": "fd904f37",
   "metadata": {},
   "outputs": [],
   "source": [
    "\n",
    "load_dotenv()\n",
    "mistral_api_key = os.getenv('MISTRAL_API_KEY')"
   ]
  },
  {
   "cell_type": "markdown",
   "id": "593461c4",
   "metadata": {},
   "source": [
    "Control Test 1: Validate bitcoin data from 15th January is not returned"
   ]
  },
  {
   "cell_type": "code",
   "execution_count": 3,
   "id": "53654962",
   "metadata": {},
   "outputs": [
    {
     "data": {
      "text/plain": [
       "AIMessage(content='I cannot provide an answer to that question as I am an artificial intelligence and do not have the ability to access real-time or historical data about the price of Bitcoin or any other financial instrument. Furthermore, I cannot predict future prices as Bitcoin, like all other financial assets, is subject to market forces and volatility that can make its value unpredictable. It is recommended to check a reliable financial news source or a cryptocurrency data provider for accurate and up-to-date information on the current price of Bitcoin.')"
      ]
     },
     "execution_count": 3,
     "metadata": {},
     "output_type": "execute_result"
    }
   ],
   "source": [
    "chat = ChatMistralAI(mistral_api_key=mistral_api_key, model='mistral-tiny' )\n",
    "# We will need to update this when the model is updated\n",
    "messages = [HumanMessage(content=\"What was the price of bitcoin on the 15th of January 2024?\")]\n",
    "chat.invoke(messages)"
   ]
  },
  {
   "cell_type": "markdown",
   "id": "aa5b3734",
   "metadata": {},
   "source": [
    "Control Test 2: Verify the premier league results on the weekend of the 14th of Januray aren't availble"
   ]
  },
  {
   "cell_type": "code",
   "execution_count": 4,
   "id": "df1d4886",
   "metadata": {},
   "outputs": [
    {
     "data": {
      "text/plain": [
       "AIMessage(content=\"I'm an AI language model and I don't have the ability to access real-time data or specific information about past football matches unless it is provided to me. The English Premier League (EPL) fixtures and results for the weekend of January 12, 2024, are not readily available to me at this moment. To find out the results, I would recommend checking the official EPL website or a reputable sports news source for the most accurate and up-to-date information.\")"
      ]
     },
     "execution_count": 4,
     "metadata": {},
     "output_type": "execute_result"
    }
   ],
   "source": [
    "messages = [HumanMessage(content=\"What were the results in the English football premier league on the weekend of the 12th of January 2024\")]\n",
    "chat.invoke(messages)"
   ]
  }
 ],
 "metadata": {
  "kernelspec": {
   "display_name": "Python 3 (ipykernel)",
   "language": "python",
   "name": "python3"
  },
  "language_info": {
   "codemirror_mode": {
    "name": "ipython",
    "version": 3
   },
   "file_extension": ".py",
   "mimetype": "text/x-python",
   "name": "python",
   "nbconvert_exporter": "python",
   "pygments_lexer": "ipython3",
   "version": "3.12.1"
  }
 },
 "nbformat": 4,
 "nbformat_minor": 5
}
