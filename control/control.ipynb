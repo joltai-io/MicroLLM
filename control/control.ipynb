{
 "cells": [
  {
   "cell_type": "markdown",
   "id": "19f813ba",
   "metadata": {},
   "source": [
    "Import and Install Required Packages"
   ]
  },
  {
   "cell_type": "code",
   "execution_count": 52,
   "id": "532b1fb0-6de6-4ce3-9f65-2d83622d597c",
   "metadata": {},
   "outputs": [
    {
     "name": "stdout",
     "output_type": "stream",
     "text": [
      "Traceback (most recent call last):\n",
      "  File \"<frozen runpy>\", line 198, in _run_module_as_main\n",
      "  File \"<frozen runpy>\", line 88, in _run_code\n",
      "  File \"/Users/robbuckley/code/MicroLLM/.venv/lib/python3.12/site-packages/pip/__main__.py\", line 8, in <module>\n",
      "    if sys.path[0] in (\"\", os.getcwd()):\n",
      "                           ^^^^^^^^^^^\n",
      "FileNotFoundError: [Errno 2] No such file or directory\n",
      "Note: you may need to restart the kernel to use updated packages.\n",
      "Traceback (most recent call last):\n",
      "  File \"<frozen runpy>\", line 198, in _run_module_as_main\n",
      "  File \"<frozen runpy>\", line 88, in _run_code\n",
      "  File \"/Users/robbuckley/code/MicroLLM/.venv/lib/python3.12/site-packages/pip/__main__.py\", line 8, in <module>\n",
      "    if sys.path[0] in (\"\", os.getcwd()):\n",
      "                           ^^^^^^^^^^^\n",
      "FileNotFoundError: [Errno 2] No such file or directory\n",
      "Note: you may need to restart the kernel to use updated packages.\n",
      "Traceback (most recent call last):\n",
      "  File \"<frozen runpy>\", line 198, in _run_module_as_main\n",
      "  File \"<frozen runpy>\", line 88, in _run_code\n",
      "  File \"/Users/robbuckley/code/MicroLLM/.venv/lib/python3.12/site-packages/pip/__main__.py\", line 8, in <module>\n",
      "    if sys.path[0] in (\"\", os.getcwd()):\n",
      "                           ^^^^^^^^^^^\n",
      "FileNotFoundError: [Errno 2] No such file or directory\n",
      "Note: you may need to restart the kernel to use updated packages.\n",
      "Traceback (most recent call last):\n",
      "  File \"<frozen runpy>\", line 198, in _run_module_as_main\n",
      "  File \"<frozen runpy>\", line 88, in _run_code\n",
      "  File \"/Users/robbuckley/code/MicroLLM/.venv/lib/python3.12/site-packages/pip/__main__.py\", line 8, in <module>\n",
      "    if sys.path[0] in (\"\", os.getcwd()):\n",
      "                           ^^^^^^^^^^^\n",
      "FileNotFoundError: [Errno 2] No such file or directory\n",
      "Note: you may need to restart the kernel to use updated packages.\n"
     ]
    }
   ],
   "source": [
    "%pip install langchain\n",
    "%pip install langchain-openai\n",
    "%pip install python-dotenv\n",
    "%pip install langchain-mistralai\n",
    "\n",
    "from langchain.vectorstores import FAISS\n",
    "from langchain.embeddings.openai import OpenAIEmbeddings\n",
    "from langchain_core.messages import HumanMessage\n",
    "from langchain_mistralai.chat_models import ChatMistralAI\n",
    "from dotenv import load_dotenv\n",
    "import os\n"
   ]
  },
  {
   "cell_type": "markdown",
   "id": "0bc3bbc7",
   "metadata": {},
   "source": [
    "Import OpenAPI Key"
   ]
  },
  {
   "cell_type": "code",
   "execution_count": 49,
   "id": "fd904f37",
   "metadata": {},
   "outputs": [
    {
     "ename": "FileNotFoundError",
     "evalue": "[Errno 2] No such file or directory",
     "output_type": "error",
     "traceback": [
      "\u001b[0;31m---------------------------------------------------------------------------\u001b[0m",
      "\u001b[0;31mFileNotFoundError\u001b[0m                         Traceback (most recent call last)",
      "\u001b[1;32m/Users/robbuckley/code/MicroLLM/control/control.ipynb Cell 4\u001b[0m line \u001b[0;36m1\n\u001b[0;32m----> <a href='vscode-notebook-cell:/Users/robbuckley/code/MicroLLM/control/control.ipynb#W6sZmlsZQ%3D%3D?line=0'>1</a>\u001b[0m load_dotenv()\n\u001b[1;32m      <a href='vscode-notebook-cell:/Users/robbuckley/code/MicroLLM/control/control.ipynb#W6sZmlsZQ%3D%3D?line=1'>2</a>\u001b[0m mistral_api_key \u001b[39m=\u001b[39m os\u001b[39m.\u001b[39mgetenv(\u001b[39m'\u001b[39m\u001b[39mMISTRAL_API_KEY\u001b[39m\u001b[39m'\u001b[39m)\n",
      "File \u001b[0;32m~/code/MicroLLM/.venv/lib/python3.12/site-packages/dotenv/main.py:336\u001b[0m, in \u001b[0;36mload_dotenv\u001b[0;34m(dotenv_path, stream, verbose, override, interpolate, encoding)\u001b[0m\n\u001b[1;32m    319\u001b[0m \u001b[39m\u001b[39m\u001b[39m\"\"\"Parse a .env file and then load all the variables found as environment variables.\u001b[39;00m\n\u001b[1;32m    320\u001b[0m \n\u001b[1;32m    321\u001b[0m \u001b[39mParameters:\u001b[39;00m\n\u001b[0;32m   (...)\u001b[0m\n\u001b[1;32m    333\u001b[0m \u001b[39m.env file.\u001b[39;00m\n\u001b[1;32m    334\u001b[0m \u001b[39m\"\"\"\u001b[39;00m\n\u001b[1;32m    335\u001b[0m \u001b[39mif\u001b[39;00m dotenv_path \u001b[39mis\u001b[39;00m \u001b[39mNone\u001b[39;00m \u001b[39mand\u001b[39;00m stream \u001b[39mis\u001b[39;00m \u001b[39mNone\u001b[39;00m:\n\u001b[0;32m--> 336\u001b[0m     dotenv_path \u001b[39m=\u001b[39m find_dotenv()\n\u001b[1;32m    338\u001b[0m dotenv \u001b[39m=\u001b[39m DotEnv(\n\u001b[1;32m    339\u001b[0m     dotenv_path\u001b[39m=\u001b[39mdotenv_path,\n\u001b[1;32m    340\u001b[0m     stream\u001b[39m=\u001b[39mstream,\n\u001b[0;32m   (...)\u001b[0m\n\u001b[1;32m    344\u001b[0m     encoding\u001b[39m=\u001b[39mencoding,\n\u001b[1;32m    345\u001b[0m )\n\u001b[1;32m    346\u001b[0m \u001b[39mreturn\u001b[39;00m dotenv\u001b[39m.\u001b[39mset_as_environment_variables()\n",
      "File \u001b[0;32m~/code/MicroLLM/.venv/lib/python3.12/site-packages/dotenv/main.py:288\u001b[0m, in \u001b[0;36mfind_dotenv\u001b[0;34m(filename, raise_error_if_not_found, usecwd)\u001b[0m\n\u001b[1;32m    284\u001b[0m     \u001b[39mreturn\u001b[39;00m \u001b[39mnot\u001b[39;00m \u001b[39mhasattr\u001b[39m(main, \u001b[39m'\u001b[39m\u001b[39m__file__\u001b[39m\u001b[39m'\u001b[39m)\n\u001b[1;32m    286\u001b[0m \u001b[39mif\u001b[39;00m usecwd \u001b[39mor\u001b[39;00m _is_interactive() \u001b[39mor\u001b[39;00m \u001b[39mgetattr\u001b[39m(sys, \u001b[39m'\u001b[39m\u001b[39mfrozen\u001b[39m\u001b[39m'\u001b[39m, \u001b[39mFalse\u001b[39;00m):\n\u001b[1;32m    287\u001b[0m     \u001b[39m# Should work without __file__, e.g. in REPL or IPython notebook.\u001b[39;00m\n\u001b[0;32m--> 288\u001b[0m     path \u001b[39m=\u001b[39m os\u001b[39m.\u001b[39;49mgetcwd()\n\u001b[1;32m    289\u001b[0m \u001b[39melse\u001b[39;00m:\n\u001b[1;32m    290\u001b[0m     \u001b[39m# will work for .py files\u001b[39;00m\n\u001b[1;32m    291\u001b[0m     frame \u001b[39m=\u001b[39m sys\u001b[39m.\u001b[39m_getframe()\n",
      "\u001b[0;31mFileNotFoundError\u001b[0m: [Errno 2] No such file or directory"
     ]
    }
   ],
   "source": [
    "\n",
    "load_dotenv()\n",
    "mistral_api_key = os.getenv('MISTRAL_API_KEY')"
   ]
  },
  {
   "cell_type": "markdown",
   "id": "593461c4",
   "metadata": {},
   "source": [
    "Control Test 1: Validate bitcoin data from 15th January is not returned"
   ]
  },
  {
   "cell_type": "code",
   "execution_count": 45,
   "id": "53654962",
   "metadata": {},
   "outputs": [
    {
     "data": {
      "text/plain": [
       "AIMessage(content=\"I cannot provide an answer to that question as I don't have the ability to access real-time or historical data about the price of Bitcoin or any other cryptocurrency. The price of Bitcoin on the 15th of January 2024 would depend on various market conditions and economic factors that would have unfolded in the interim between the current date and that date. To get an accurate answer, you would need to check a reliable financial news source or cryptocurrency data provider.\")"
      ]
     },
     "execution_count": 45,
     "metadata": {},
     "output_type": "execute_result"
    }
   ],
   "source": [
    "chat = ChatMistralAI(mistral_api_key=mistral_api_key, model='mistral-tiny' )\n",
    "# We will need to update this when the model is updated\n",
    "messages = [HumanMessage(content=\"What was the price of bitcoin on the 15th of January 2024?\")]\n",
    "chat.invoke(messages)"
   ]
  },
  {
   "cell_type": "markdown",
   "id": "aa5b3734",
   "metadata": {},
   "source": [
    "Control Test 2: Verify the premier league results on the weekend of the 14th of Januray aren't availble"
   ]
  },
  {
   "cell_type": "code",
   "execution_count": 44,
   "id": "df1d4886",
   "metadata": {},
   "outputs": [
    {
     "data": {
      "text/plain": [
       "AIMessage(content=\"I'm an artificial intelligence and I don't have the ability to access real-time or historical sports data directly. However, I can help you find the information you're looking for by guiding you to a reliable sports news or statistics website.\\n\\nThe English Premier League (EPL) results from the weekend of January 12, 2024, can be found on various sports websites. Here are some popular ones:\\n\\n1. BBC Sport: https://www.bbc.com/sport/football/premier-league/scores-and-fixtures\\n2. Sky Sports: https://www.skysports.com/football/premier-league\\n3. ESPN: https://www.espn.com/soccer/english-premier-league\\n\\nYou can visit any of these websites and look for the section dedicated to the English Premier League results from the weekend of January 12, 2024. They should have the most up-to-date and accurate information.\\n\\nKeep in mind that the exact results may vary depending on the specific matches that took place that weekend.\")"
      ]
     },
     "execution_count": 44,
     "metadata": {},
     "output_type": "execute_result"
    }
   ],
   "source": [
    "messages = [HumanMessage(content=\"What were the results in the English football premier league on the weekend of the 12th of January 2024\")]\n",
    "chat.invoke(messages)"
   ]
  }
 ],
 "metadata": {
  "kernelspec": {
   "display_name": "Python 3 (ipykernel)",
   "language": "python",
   "name": "python3"
  },
  "language_info": {
   "codemirror_mode": {
    "name": "ipython",
    "version": 3
   },
   "file_extension": ".py",
   "mimetype": "text/x-python",
   "name": "python",
   "nbconvert_exporter": "python",
   "pygments_lexer": "ipython3",
   "version": "3.12.1"
  }
 },
 "nbformat": 4,
 "nbformat_minor": 5
}
