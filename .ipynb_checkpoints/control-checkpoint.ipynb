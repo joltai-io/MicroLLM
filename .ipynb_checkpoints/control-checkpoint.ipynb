{
 "cells": [
  {
   "cell_type": "markdown",
   "id": "818a71e1-a6e2-45f5-9c4c-21856627353c",
   "metadata": {},
   "source": [
    "Step 1: Import required packages"
   ]
  },
  {
   "cell_type": "code",
   "execution_count": null,
   "id": "71787dfc-868e-4e18-9ae0-756429746026",
   "metadata": {},
   "outputs": [],
   "source": []
  }
 ],
 "metadata": {
  "kernelspec": {
   "display_name": "Python 3 (ipykernel)",
   "language": "python",
   "name": "python3"
  },
  "language_info": {
   "codemirror_mode": {
    "name": "ipython",
    "version": 3
   },
   "file_extension": ".py",
   "mimetype": "text/x-python",
   "name": "python",
   "nbconvert_exporter": "python",
   "pygments_lexer": "ipython3",
   "version": "3.11.5"
  }
 },
 "nbformat": 4,
 "nbformat_minor": 5
}
