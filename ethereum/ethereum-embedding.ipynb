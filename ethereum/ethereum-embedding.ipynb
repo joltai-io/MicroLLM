{
 "cells": [
  {
   "cell_type": "markdown",
   "metadata": {},
   "source": [
    "# The purpose of this workbook is to input the latest ethereum pricing data into the mistral LLM model.\n",
    "\n",
    "# 1. Import and Install Required Packages"
   ]
  },
  {
   "cell_type": "code",
   "execution_count": null,
   "metadata": {},
   "outputs": [],
   "source": [
    "%pip install langchain\n",
    "%pip install python-dotenv\n",
    "%pip install mistralai\n",
    "%pip install pandas\n",
    "%pip install faiss-cpu\n",
    "%pip install langchain-openai\n",
    "%conda install -c pytorch faiss-gpu\n",
    "%pip install langchain-mistralai\n",
    "\n",
    "\n",
    "from langchain_core.messages import HumanMessage\n",
    "from langchain.document_loaders.csv_loader import CSVLoader\n",
    "from langchain_community.vectorstores import FAISS\n",
    "from langchain.prompts import PromptTemplate\n",
    "from langchain_community.document_loaders import DataFrameLoader\n",
    "from langchain_openai import OpenAIEmbeddings\n",
    "from langchain.chains import LLMChain\n",
    "from mistralai.client import MistralClient  # Have to use mistral directly as langchain library is broken\n",
    "from langchain_core.messages import HumanMessage\n",
    "from langchain_mistralai.chat_models import ChatMistralAI\n",
    "from dotenv import load_dotenv\n",
    "\n",
    "import os"
   ]
  },
  {
   "cell_type": "markdown",
   "metadata": {},
   "source": [
    "## Prepare the data\n",
    "Step 1 \n",
    "Remove any values where price is between 1 and 0.\n",
    "\n",
    "Step 2\n",
    "Combine values from each row into one document column so we can feed it into the LLM\n",
    "\n",
    "Step 3 \n",
    "Add column coin type "
   ]
  },
  {
   "cell_type": "code",
   "execution_count": null,
   "metadata": {},
   "outputs": [],
   "source": [
    "import pandas as pd\n",
    "\n",
    "df = pd.read_csv(\"ethereum-prices.csv\") \n",
    "\n",
    "clean_df = df[df['open_price'] >= 1]\n",
    "clean_df['coin_type'] = 'ethereum'"
   ]
  },
  {
   "cell_type": "markdown",
   "metadata": {},
   "source": [
    "## 2. Read in Mistral API Key and OpenAPI Key\n",
    "Bit of hack to use both, only need openai for embeddings which will aim to move away from"
   ]
  },
  {
   "cell_type": "code",
   "execution_count": null,
   "metadata": {},
   "outputs": [],
   "source": [
    "load_dotenv()\n",
    "mistral_api_key = os.getenv('MISTRAL_API_KEY')\n",
    "open_api_key = os.getenv('OPEN_API_KEY')"
   ]
  },
  {
   "cell_type": "markdown",
   "metadata": {},
   "source": [
    "## 3. Vectorise the ethereum data\n",
    "\n",
    "We convert it to embeddings and store in a faiss vector store."
   ]
  },
  {
   "cell_type": "code",
   "execution_count": null,
   "metadata": {},
   "outputs": [],
   "source": [
    "\n",
    "loader = DataFrameLoader(clean_df, page_content_column=\"timestamp\")\n",
    "documents = loader.load()\n",
    "print(documents)\n",
    "\n",
    "embeddings = OpenAIEmbeddings(openai_api_key=open_api_key)\n",
    "vector_store = FAISS.from_documents(documents=documents, embedding=embeddings)"
   ]
  },
  {
   "cell_type": "markdown",
   "metadata": {},
   "source": [
    "## Define similarity search function\n",
    "\n",
    "This similarity search returns the top 3 results from our vector store. It relates what the query from the end user is asking to what is in the vector store. \n",
    "\n",
    "- similar_response performs the similarity search inside our vector store. \n"
   ]
  },
  {
   "cell_type": "code",
   "execution_count": null,
   "metadata": {},
   "outputs": [],
   "source": [
    "def retrieve_info(query):\n",
    "    similar_response = vector_store.similarity_search(query=query, k=3)\n",
    "    print(similar_response)\n",
    "    return similar_response"
   ]
  },
  {
   "cell_type": "markdown",
   "metadata": {},
   "source": [
    "## Now lets tune mistral to use our new data embeddings"
   ]
  },
  {
   "cell_type": "code",
   "execution_count": null,
   "metadata": {},
   "outputs": [],
   "source": [
    "llm = ChatMistralAI(mistral_api_key=mistral_api_key, model='mistral-tiny', temperature=0)\n",
    "\n",
    "\n",
    "template = \"\"\"\n",
    "You are a blockchain expert, specializing in Ethereum and telling prices. \n",
    "\n",
    "Below is a message you might receive:\n",
    "{message}\n",
    "\n",
    "Here is a list of relevant pricing data:\n",
    "{ethereum_prices}\n",
    "\n",
    "Please return pricing data\n",
    "\"\"\"\n",
    "\n",
    "prompt = PromptTemplate(\n",
    "    input_variables={\"message\", \"ethereum_prices\"},\n",
    "    template=template\n",
    ")\n",
    "\n",
    "chain = LLMChain(llm=llm, prompt=prompt)"
   ]
  },
  {
   "cell_type": "markdown",
   "metadata": {},
   "source": [
    "## Create function to generate response"
   ]
  },
  {
   "cell_type": "code",
   "execution_count": null,
   "metadata": {},
   "outputs": [],
   "source": [
    "def generate_response(message):\n",
    "    ethereum_prices = retrieve_info(message)\n",
    "    response      = chain.run(message=message,  ethereum_prices=ethereum_prices)\n",
    "    return response"
   ]
  },
  {
   "cell_type": "markdown",
   "metadata": {},
   "source": [
    "## Now test if our response generates actual correct data. \n",
    "This may actually only train on the format of data."
   ]
  },
  {
   "cell_type": "code",
   "execution_count": 117,
   "metadata": {},
   "outputs": [
    {
     "name": "stdout",
     "output_type": "stream",
     "text": [
      "[Document(page_content='2023-12-21T00:00:00Z', metadata={'open_price': 2196.43, 'high_price': 2278.19, 'low_price': 2185.11, 'close_price': 2241.29, 'average_price': 2225.0103348214284, 'volume': 13972.04538901768, 'coin_type': 'ethereum'}), Document(page_content='2023-12-31T00:00:00Z', metadata={'open_price': 2292.91, 'high_price': 2317.57, 'low_price': 2265.67, 'close_price': 2280.69, 'average_price': 2295.204309623431, 'volume': 6987.294741855056, 'coin_type': 'ethereum'}), Document(page_content='2023-12-31T00:00:00Z', metadata={'open_price': 2217.123285260862, 'high_price': 2217.123285260862, 'low_price': 2217.123285260862, 'close_price': 2217.123285260862, 'average_price': 2217.123285260862, 'volume': 0.23, 'coin_type': 'ethereum'})]\n"
     ]
    },
    {
     "data": {
      "text/plain": [
       "'Based on the provided data, there is no document with the exact timestamp of 2023-12-21T00:00:00. Therefore, I cannot provide the exact price of Ethereum on that date and time. The closest available data is from the 31st of December, 2023 with a close price of 2280.69.'"
      ]
     },
     "execution_count": 117,
     "metadata": {},
     "output_type": "execute_result"
    }
   ],
   "source": [
    "message = \"\"\"\n",
    "What was the price of ethereum on 2023-12-21T00:00:00?\n",
    "\"\"\"\n",
    "\n",
    "generate_response(message)"
   ]
  }
 ],
 "metadata": {
  "kernelspec": {
   "display_name": ".venv",
   "language": "python",
   "name": "python3"
  },
  "language_info": {
   "codemirror_mode": {
    "name": "ipython",
    "version": 3
   },
   "file_extension": ".py",
   "mimetype": "text/x-python",
   "name": "python",
   "nbconvert_exporter": "python",
   "pygments_lexer": "ipython3",
   "version": "3.11.5"
  }
 },
 "nbformat": 4,
 "nbformat_minor": 2
}
