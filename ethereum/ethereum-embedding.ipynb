{
 "cells": [
  {
   "cell_type": "markdown",
   "metadata": {},
   "source": [
    "# The purpose of this workbook is to input the latest ethereum pricing data into the mistral LLM model.\n",
    "\n",
    "# 1. Import and Install Required Packages"
   ]
  },
  {
   "cell_type": "code",
   "execution_count": null,
   "metadata": {},
   "outputs": [],
   "source": [
    "%pip install langchain\n",
    "%pip install python-dotenv\n",
    "%pip install mistralai\n",
    "%pip install pandas\n",
    "%pip install faiss-cpu\n",
    "%pip install langchain-openai\n",
    "%conda install -c pytorch faiss-gpu\n",
    "%pip install langchain-mistralai\n",
    "\n",
    "\n",
    "from langchain_core.messages import HumanMessage\n",
    "from langchain.document_loaders.csv_loader import CSVLoader\n",
    "from langchain_community.vectorstores import FAISS\n",
    "from langchain.prompts import PromptTemplate\n",
    "from langchain_openai import OpenAIEmbeddings\n",
    "from langchain.chains import LLMChain\n",
    "from mistralai.client import MistralClient  # Have to use mistral directly as langchain library is broken\n",
    "from langchain_core.messages import HumanMessage\n",
    "from langchain_mistralai.chat_models import ChatMistralAI\n",
    "from dotenv import load_dotenv\n",
    "\n",
    "import os"
   ]
  },
  {
   "cell_type": "markdown",
   "metadata": {},
   "source": [
    "## Prepare the data\n",
    "Prepare our data"
   ]
  },
  {
   "cell_type": "code",
   "execution_count": null,
   "metadata": {},
   "outputs": [],
   "source": [
    "import pandas as pd\n",
    "\n",
    "df = pd.read_csv(\"ethereum-prices.csv\")\n",
    "\n"
   ]
  },
  {
   "cell_type": "markdown",
   "metadata": {},
   "source": [
    "## 2. Read in Mistral API Key and OpenAPI Key\n",
    "Bit of hack to use both, only need openai for embeddings which will aim to move away from"
   ]
  },
  {
   "cell_type": "code",
   "execution_count": null,
   "metadata": {},
   "outputs": [],
   "source": [
    "load_dotenv()\n",
    "mistral_api_key = os.getenv('MISTRAL_API_KEY')\n",
    "open_api_key = os.getenv('OPEN_API_KEY')"
   ]
  },
  {
   "cell_type": "markdown",
   "metadata": {},
   "source": [
    "## 3. Vectorise the ethereum data\n",
    "\n",
    "We load in the etherreum data, then convert it to embeddings and store in a faiss vector store."
   ]
  },
  {
   "cell_type": "code",
   "execution_count": null,
   "metadata": {},
   "outputs": [],
   "source": [
    "loader = CSVLoader(file_path='ethereum-prices.csv')\n",
    "documents = loader.load()\n",
    "\n",
    "# Test to show documents are loaded correctly\n",
    "print(documents[0])\n",
    "\n",
    "embeddings = OpenAIEmbeddings(openai_api_key=open_api_key)\n",
    "vector_store = FAISS.from_documents(documents=documents, embedding=embeddings)\n"
   ]
  },
  {
   "cell_type": "markdown",
   "metadata": {},
   "source": [
    "## Define similarity search function"
   ]
  },
  {
   "cell_type": "code",
   "execution_count": 34,
   "metadata": {},
   "outputs": [],
   "source": [
    "def retrieve_info(query):\n",
    "    similar_response = vector_store.similarity_search(query=query, k=3)\n",
    "    page_contents_array = [doc.page_content for doc in similar_response]\n",
    "    print(page_contents_array)\n",
    "    return page_contents_array"
   ]
  },
  {
   "cell_type": "markdown",
   "metadata": {},
   "source": [
    "## Test out our similarity search"
   ]
  },
  {
   "cell_type": "code",
   "execution_count": 35,
   "metadata": {},
   "outputs": [
    {
     "name": "stdout",
     "output_type": "stream",
     "text": [
      "['timestamp: 2024-01-08T00:00:00Z\\nopen_price: 5.1937804114183994e-08\\nhigh_price: 5.1937804114183994e-08\\nlow_price: 5.1937804114183994e-08\\nclose_price: 5.1937804114183994e-08\\naverage_price: 5.1937804114183994e-08\\nvolume: 544173617.8901023', 'timestamp: 2024-01-05T00:00:00Z\\nopen_price: 5.0886391014356565e-08\\nhigh_price: 5.0886391014356565e-08\\nlow_price: 5.0886391014356565e-08\\nclose_price: 5.0886391014356565e-08\\naverage_price: 5.0886391014356565e-08\\nvolume: 321986247.33510756', 'timestamp: 2024-01-08T00:00:00Z\\nopen_price: 6.326884246348339e-05\\nhigh_price: 6.326884246348339e-05\\nlow_price: 6.326884246348339e-05\\nclose_price: 6.326884246348339e-05\\naverage_price: 6.326884246348339e-05\\nvolume: 3500000.0']\n",
      "['timestamp: 2024-01-08T00:00:00Z\\nopen_price: 5.1937804114183994e-08\\nhigh_price: 5.1937804114183994e-08\\nlow_price: 5.1937804114183994e-08\\nclose_price: 5.1937804114183994e-08\\naverage_price: 5.1937804114183994e-08\\nvolume: 544173617.8901023', 'timestamp: 2024-01-05T00:00:00Z\\nopen_price: 5.0886391014356565e-08\\nhigh_price: 5.0886391014356565e-08\\nlow_price: 5.0886391014356565e-08\\nclose_price: 5.0886391014356565e-08\\naverage_price: 5.0886391014356565e-08\\nvolume: 321986247.33510756', 'timestamp: 2024-01-08T00:00:00Z\\nopen_price: 6.326884246348339e-05\\nhigh_price: 6.326884246348339e-05\\nlow_price: 6.326884246348339e-05\\nclose_price: 6.326884246348339e-05\\naverage_price: 6.326884246348339e-05\\nvolume: 3500000.0']\n"
     ]
    }
   ],
   "source": [
    "message = \"\"\"\n",
    "Jesse, we have to trade. What was the price of ethereum on the 5th of January?\n",
    "\"\"\"\n",
    "results = retrieve_info(message)\n",
    "\n",
    "print(results)"
   ]
  },
  {
   "cell_type": "markdown",
   "metadata": {},
   "source": [
    "## Now lets tune mistral to use our new data embeddings"
   ]
  },
  {
   "cell_type": "code",
   "execution_count": 37,
   "metadata": {},
   "outputs": [],
   "source": [
    "llm = ChatMistralAI(mistral_api_key=mistral_api_key, model='mistral-tiny', temperature=0)\n",
    "\n",
    "\n",
    "template = \"\"\"\n",
    "You are a blockchain expert, specializing in Ethereum. You are talking to a friend who is new to the space. They ask you a question about Ethereum. You answer their question. The conversation continues.\n",
    "Responses should be concise and to the point. Do not use jargon or technical terms. Do not use slang or colloquialisms. Do not use contractions. Do not use emojis.\n",
    "\n",
    "Below is a message you might receive:\n",
    "{message}\n",
    "\n",
    "Here is a list of relevant pricing data:\n",
    "{ethereum_prices}\n",
    "\n",
    "Please write me some nice responses\n",
    "\"\"\"\n",
    "\n",
    "prompt = PromptTemplate(\n",
    "    input_variables={\"message\", \"ethereum_prices\"},\n",
    "    template=template\n",
    ")\n",
    "\n",
    "chain = LLMChain(llm=llm, prompt=prompt)"
   ]
  },
  {
   "cell_type": "markdown",
   "metadata": {},
   "source": [
    "## Create function to generate response"
   ]
  },
  {
   "cell_type": "code",
   "execution_count": 38,
   "metadata": {},
   "outputs": [],
   "source": [
    "def generate_response(message):\n",
    "    ethereum_prices = retrieve_info(message)\n",
    "    response      = chain.run(message=message,  ethereum_prices=ethereum_prices)\n",
    "    return response"
   ]
  },
  {
   "cell_type": "markdown",
   "metadata": {},
   "source": [
    "## Now test if our response generates actual correct data. \n",
    "This may actually only train on the format of data."
   ]
  },
  {
   "cell_type": "code",
   "execution_count": 39,
   "metadata": {},
   "outputs": [
    {
     "name": "stdout",
     "output_type": "stream",
     "text": [
      "['timestamp: 2024-01-08T00:00:00Z\\nopen_price: 5.1937804114183994e-08\\nhigh_price: 5.1937804114183994e-08\\nlow_price: 5.1937804114183994e-08\\nclose_price: 5.1937804114183994e-08\\naverage_price: 5.1937804114183994e-08\\nvolume: 544173617.8901023', 'timestamp: 2024-01-05T00:00:00Z\\nopen_price: 5.0886391014356565e-08\\nhigh_price: 5.0886391014356565e-08\\nlow_price: 5.0886391014356565e-08\\nclose_price: 5.0886391014356565e-08\\naverage_price: 5.0886391014356565e-08\\nvolume: 321986247.33510756', 'timestamp: 2024-01-08T00:00:00Z\\nopen_price: 6.326884246348339e-05\\nhigh_price: 6.326884246348339e-05\\nlow_price: 6.326884246348339e-05\\nclose_price: 6.326884246348339e-05\\naverage_price: 6.326884246348339e-05\\nvolume: 3500000.0']\n"
     ]
    },
    {
     "data": {
      "text/plain": [
       "\"Response 1:\\nThe price of Ethereum on the 5th of January was 5.0886391014356565e-08, according to the provided data.\\n\\nResponse 2:\\nBased on the given information, Ethereum was priced at 5.0886391014356565e-08 on January 5th.\\n\\nResponse 3:\\nAccording to the data, Ethereum's price on January 5th was 5.0886391014356565e-08.\""
      ]
     },
     "execution_count": 39,
     "metadata": {},
     "output_type": "execute_result"
    }
   ],
   "source": [
    "message = \"\"\"\n",
    "Jesse, we have to trade. What was the price of ethereum on the 5th of January?\n",
    "\"\"\"\n",
    "\n",
    "generate_response(message)"
   ]
  }
 ],
 "metadata": {
  "kernelspec": {
   "display_name": ".venv",
   "language": "python",
   "name": "python3"
  },
  "language_info": {
   "codemirror_mode": {
    "name": "ipython",
    "version": 3
   },
   "file_extension": ".py",
   "mimetype": "text/x-python",
   "name": "python",
   "nbconvert_exporter": "python",
   "pygments_lexer": "ipython3",
   "version": "3.11.5"
  }
 },
 "nbformat": 4,
 "nbformat_minor": 2
}
