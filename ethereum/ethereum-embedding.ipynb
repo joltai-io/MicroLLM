{
 "cells": [
  {
   "cell_type": "markdown",
   "metadata": {},
   "source": [
    "# The purpose of this workbook is to input the latest ethereum pricing data into the mistral LLM model.\n",
    "\n",
    "# 1. Import and Install Required Packages"
   ]
  },
  {
   "cell_type": "code",
   "execution_count": 118,
   "metadata": {},
   "outputs": [
    {
     "name": "stdout",
     "output_type": "stream",
     "text": [
      "Requirement already satisfied: langchain in /Users/robbuckley/anaconda3/lib/python3.11/site-packages (0.1.1)\n",
      "Requirement already satisfied: PyYAML>=5.3 in /Users/robbuckley/anaconda3/lib/python3.11/site-packages (from langchain) (6.0)\n",
      "Requirement already satisfied: SQLAlchemy<3,>=1.4 in /Users/robbuckley/anaconda3/lib/python3.11/site-packages (from langchain) (1.4.39)\n",
      "Requirement already satisfied: aiohttp<4.0.0,>=3.8.3 in /Users/robbuckley/anaconda3/lib/python3.11/site-packages (from langchain) (3.8.5)\n",
      "Requirement already satisfied: dataclasses-json<0.7,>=0.5.7 in /Users/robbuckley/anaconda3/lib/python3.11/site-packages (from langchain) (0.6.3)\n",
      "Requirement already satisfied: jsonpatch<2.0,>=1.33 in /Users/robbuckley/anaconda3/lib/python3.11/site-packages (from langchain) (1.33)\n",
      "Requirement already satisfied: langchain-community<0.1,>=0.0.13 in /Users/robbuckley/anaconda3/lib/python3.11/site-packages (from langchain) (0.0.13)\n",
      "Requirement already satisfied: langchain-core<0.2,>=0.1.9 in /Users/robbuckley/anaconda3/lib/python3.11/site-packages (from langchain) (0.1.11)\n",
      "Requirement already satisfied: langsmith<0.1.0,>=0.0.77 in /Users/robbuckley/anaconda3/lib/python3.11/site-packages (from langchain) (0.0.81)\n",
      "Requirement already satisfied: numpy<2,>=1 in /Users/robbuckley/anaconda3/lib/python3.11/site-packages (from langchain) (1.24.3)\n",
      "Requirement already satisfied: pydantic<3,>=1 in /Users/robbuckley/anaconda3/lib/python3.11/site-packages (from langchain) (2.5.3)\n",
      "Requirement already satisfied: requests<3,>=2 in /Users/robbuckley/anaconda3/lib/python3.11/site-packages (from langchain) (2.31.0)\n",
      "Requirement already satisfied: tenacity<9.0.0,>=8.1.0 in /Users/robbuckley/anaconda3/lib/python3.11/site-packages (from langchain) (8.2.2)\n",
      "Requirement already satisfied: attrs>=17.3.0 in /Users/robbuckley/anaconda3/lib/python3.11/site-packages (from aiohttp<4.0.0,>=3.8.3->langchain) (22.1.0)\n",
      "Requirement already satisfied: charset-normalizer<4.0,>=2.0 in /Users/robbuckley/anaconda3/lib/python3.11/site-packages (from aiohttp<4.0.0,>=3.8.3->langchain) (2.0.4)\n",
      "Requirement already satisfied: multidict<7.0,>=4.5 in /Users/robbuckley/anaconda3/lib/python3.11/site-packages (from aiohttp<4.0.0,>=3.8.3->langchain) (6.0.2)\n",
      "Requirement already satisfied: async-timeout<5.0,>=4.0.0a3 in /Users/robbuckley/anaconda3/lib/python3.11/site-packages (from aiohttp<4.0.0,>=3.8.3->langchain) (4.0.2)\n",
      "Requirement already satisfied: yarl<2.0,>=1.0 in /Users/robbuckley/anaconda3/lib/python3.11/site-packages (from aiohttp<4.0.0,>=3.8.3->langchain) (1.8.1)\n",
      "Requirement already satisfied: frozenlist>=1.1.1 in /Users/robbuckley/anaconda3/lib/python3.11/site-packages (from aiohttp<4.0.0,>=3.8.3->langchain) (1.3.3)\n",
      "Requirement already satisfied: aiosignal>=1.1.2 in /Users/robbuckley/anaconda3/lib/python3.11/site-packages (from aiohttp<4.0.0,>=3.8.3->langchain) (1.2.0)\n",
      "Requirement already satisfied: marshmallow<4.0.0,>=3.18.0 in /Users/robbuckley/anaconda3/lib/python3.11/site-packages (from dataclasses-json<0.7,>=0.5.7->langchain) (3.20.2)\n",
      "Requirement already satisfied: typing-inspect<1,>=0.4.0 in /Users/robbuckley/anaconda3/lib/python3.11/site-packages (from dataclasses-json<0.7,>=0.5.7->langchain) (0.9.0)\n",
      "Requirement already satisfied: jsonpointer>=1.9 in /Users/robbuckley/anaconda3/lib/python3.11/site-packages (from jsonpatch<2.0,>=1.33->langchain) (2.1)\n",
      "Requirement already satisfied: anyio<5,>=3 in /Users/robbuckley/anaconda3/lib/python3.11/site-packages (from langchain-core<0.2,>=0.1.9->langchain) (3.5.0)\n",
      "Requirement already satisfied: packaging<24.0,>=23.2 in /Users/robbuckley/anaconda3/lib/python3.11/site-packages (from langchain-core<0.2,>=0.1.9->langchain) (23.2)\n",
      "Requirement already satisfied: annotated-types>=0.4.0 in /Users/robbuckley/anaconda3/lib/python3.11/site-packages (from pydantic<3,>=1->langchain) (0.6.0)\n",
      "Requirement already satisfied: pydantic-core==2.14.6 in /Users/robbuckley/anaconda3/lib/python3.11/site-packages (from pydantic<3,>=1->langchain) (2.14.6)\n",
      "Requirement already satisfied: typing-extensions>=4.6.1 in /Users/robbuckley/anaconda3/lib/python3.11/site-packages (from pydantic<3,>=1->langchain) (4.7.1)\n",
      "Requirement already satisfied: idna<4,>=2.5 in /Users/robbuckley/anaconda3/lib/python3.11/site-packages (from requests<3,>=2->langchain) (3.4)\n",
      "Requirement already satisfied: urllib3<3,>=1.21.1 in /Users/robbuckley/anaconda3/lib/python3.11/site-packages (from requests<3,>=2->langchain) (1.26.16)\n",
      "Requirement already satisfied: certifi>=2017.4.17 in /Users/robbuckley/anaconda3/lib/python3.11/site-packages (from requests<3,>=2->langchain) (2023.7.22)\n",
      "Requirement already satisfied: sniffio>=1.1 in /Users/robbuckley/anaconda3/lib/python3.11/site-packages (from anyio<5,>=3->langchain-core<0.2,>=0.1.9->langchain) (1.2.0)\n",
      "Requirement already satisfied: mypy-extensions>=0.3.0 in /Users/robbuckley/anaconda3/lib/python3.11/site-packages (from typing-inspect<1,>=0.4.0->dataclasses-json<0.7,>=0.5.7->langchain) (1.0.0)\n",
      "Note: you may need to restart the kernel to use updated packages.\n",
      "Requirement already satisfied: python-dotenv in /Users/robbuckley/anaconda3/lib/python3.11/site-packages (0.21.0)\n",
      "Note: you may need to restart the kernel to use updated packages.\n",
      "Requirement already satisfied: mistralai in /Users/robbuckley/anaconda3/lib/python3.11/site-packages (0.0.11)\n",
      "Requirement already satisfied: httpx<0.26.0,>=0.25.2 in /Users/robbuckley/anaconda3/lib/python3.11/site-packages (from mistralai) (0.25.2)\n",
      "Requirement already satisfied: orjson<4.0.0,>=3.9.10 in /Users/robbuckley/anaconda3/lib/python3.11/site-packages (from mistralai) (3.9.10)\n",
      "Requirement already satisfied: pydantic<3.0.0,>=2.5.2 in /Users/robbuckley/anaconda3/lib/python3.11/site-packages (from mistralai) (2.5.3)\n",
      "Requirement already satisfied: anyio in /Users/robbuckley/anaconda3/lib/python3.11/site-packages (from httpx<0.26.0,>=0.25.2->mistralai) (3.5.0)\n",
      "Requirement already satisfied: certifi in /Users/robbuckley/anaconda3/lib/python3.11/site-packages (from httpx<0.26.0,>=0.25.2->mistralai) (2023.7.22)\n",
      "Requirement already satisfied: httpcore==1.* in /Users/robbuckley/anaconda3/lib/python3.11/site-packages (from httpx<0.26.0,>=0.25.2->mistralai) (1.0.2)\n",
      "Requirement already satisfied: idna in /Users/robbuckley/anaconda3/lib/python3.11/site-packages (from httpx<0.26.0,>=0.25.2->mistralai) (3.4)\n",
      "Requirement already satisfied: sniffio in /Users/robbuckley/anaconda3/lib/python3.11/site-packages (from httpx<0.26.0,>=0.25.2->mistralai) (1.2.0)\n",
      "Requirement already satisfied: h11<0.15,>=0.13 in /Users/robbuckley/anaconda3/lib/python3.11/site-packages (from httpcore==1.*->httpx<0.26.0,>=0.25.2->mistralai) (0.14.0)\n",
      "Requirement already satisfied: annotated-types>=0.4.0 in /Users/robbuckley/anaconda3/lib/python3.11/site-packages (from pydantic<3.0.0,>=2.5.2->mistralai) (0.6.0)\n",
      "Requirement already satisfied: pydantic-core==2.14.6 in /Users/robbuckley/anaconda3/lib/python3.11/site-packages (from pydantic<3.0.0,>=2.5.2->mistralai) (2.14.6)\n",
      "Requirement already satisfied: typing-extensions>=4.6.1 in /Users/robbuckley/anaconda3/lib/python3.11/site-packages (from pydantic<3.0.0,>=2.5.2->mistralai) (4.7.1)\n",
      "Note: you may need to restart the kernel to use updated packages.\n",
      "Requirement already satisfied: pandas in /Users/robbuckley/anaconda3/lib/python3.11/site-packages (2.0.3)\n",
      "Requirement already satisfied: python-dateutil>=2.8.2 in /Users/robbuckley/anaconda3/lib/python3.11/site-packages (from pandas) (2.8.2)\n",
      "Requirement already satisfied: pytz>=2020.1 in /Users/robbuckley/anaconda3/lib/python3.11/site-packages (from pandas) (2023.3.post1)\n",
      "Requirement already satisfied: tzdata>=2022.1 in /Users/robbuckley/anaconda3/lib/python3.11/site-packages (from pandas) (2023.3)\n",
      "Requirement already satisfied: numpy>=1.21.0 in /Users/robbuckley/anaconda3/lib/python3.11/site-packages (from pandas) (1.24.3)\n",
      "Requirement already satisfied: six>=1.5 in /Users/robbuckley/anaconda3/lib/python3.11/site-packages (from python-dateutil>=2.8.2->pandas) (1.16.0)\n",
      "Note: you may need to restart the kernel to use updated packages.\n",
      "Requirement already satisfied: faiss-cpu in /Users/robbuckley/anaconda3/lib/python3.11/site-packages (1.7.4)\n",
      "Note: you may need to restart the kernel to use updated packages.\n",
      "Requirement already satisfied: langchain-openai in /Users/robbuckley/anaconda3/lib/python3.11/site-packages (0.0.2.post1)\n",
      "Requirement already satisfied: langchain-core<0.2,>=0.1.7 in /Users/robbuckley/anaconda3/lib/python3.11/site-packages (from langchain-openai) (0.1.11)\n",
      "Requirement already satisfied: numpy<2,>=1 in /Users/robbuckley/anaconda3/lib/python3.11/site-packages (from langchain-openai) (1.24.3)\n",
      "Requirement already satisfied: openai<2.0.0,>=1.6.1 in /Users/robbuckley/anaconda3/lib/python3.11/site-packages (from langchain-openai) (1.8.0)\n",
      "Requirement already satisfied: tiktoken<0.6.0,>=0.5.2 in /Users/robbuckley/anaconda3/lib/python3.11/site-packages (from langchain-openai) (0.5.2)\n",
      "Requirement already satisfied: PyYAML>=5.3 in /Users/robbuckley/anaconda3/lib/python3.11/site-packages (from langchain-core<0.2,>=0.1.7->langchain-openai) (6.0)\n",
      "Requirement already satisfied: anyio<5,>=3 in /Users/robbuckley/anaconda3/lib/python3.11/site-packages (from langchain-core<0.2,>=0.1.7->langchain-openai) (3.5.0)\n",
      "Requirement already satisfied: jsonpatch<2.0,>=1.33 in /Users/robbuckley/anaconda3/lib/python3.11/site-packages (from langchain-core<0.2,>=0.1.7->langchain-openai) (1.33)\n",
      "Requirement already satisfied: langsmith<0.1.0,>=0.0.63 in /Users/robbuckley/anaconda3/lib/python3.11/site-packages (from langchain-core<0.2,>=0.1.7->langchain-openai) (0.0.81)\n",
      "Requirement already satisfied: packaging<24.0,>=23.2 in /Users/robbuckley/anaconda3/lib/python3.11/site-packages (from langchain-core<0.2,>=0.1.7->langchain-openai) (23.2)\n",
      "Requirement already satisfied: pydantic<3,>=1 in /Users/robbuckley/anaconda3/lib/python3.11/site-packages (from langchain-core<0.2,>=0.1.7->langchain-openai) (2.5.3)\n",
      "Requirement already satisfied: requests<3,>=2 in /Users/robbuckley/anaconda3/lib/python3.11/site-packages (from langchain-core<0.2,>=0.1.7->langchain-openai) (2.31.0)\n",
      "Requirement already satisfied: tenacity<9.0.0,>=8.1.0 in /Users/robbuckley/anaconda3/lib/python3.11/site-packages (from langchain-core<0.2,>=0.1.7->langchain-openai) (8.2.2)\n",
      "Requirement already satisfied: distro<2,>=1.7.0 in /Users/robbuckley/anaconda3/lib/python3.11/site-packages (from openai<2.0.0,>=1.6.1->langchain-openai) (1.9.0)\n",
      "Requirement already satisfied: httpx<1,>=0.23.0 in /Users/robbuckley/anaconda3/lib/python3.11/site-packages (from openai<2.0.0,>=1.6.1->langchain-openai) (0.25.2)\n",
      "Requirement already satisfied: sniffio in /Users/robbuckley/anaconda3/lib/python3.11/site-packages (from openai<2.0.0,>=1.6.1->langchain-openai) (1.2.0)\n",
      "Requirement already satisfied: tqdm>4 in /Users/robbuckley/anaconda3/lib/python3.11/site-packages (from openai<2.0.0,>=1.6.1->langchain-openai) (4.65.0)\n",
      "Requirement already satisfied: typing-extensions<5,>=4.7 in /Users/robbuckley/anaconda3/lib/python3.11/site-packages (from openai<2.0.0,>=1.6.1->langchain-openai) (4.7.1)\n",
      "Requirement already satisfied: regex>=2022.1.18 in /Users/robbuckley/anaconda3/lib/python3.11/site-packages (from tiktoken<0.6.0,>=0.5.2->langchain-openai) (2022.7.9)\n",
      "Requirement already satisfied: idna>=2.8 in /Users/robbuckley/anaconda3/lib/python3.11/site-packages (from anyio<5,>=3->langchain-core<0.2,>=0.1.7->langchain-openai) (3.4)\n",
      "Requirement already satisfied: certifi in /Users/robbuckley/anaconda3/lib/python3.11/site-packages (from httpx<1,>=0.23.0->openai<2.0.0,>=1.6.1->langchain-openai) (2023.7.22)\n",
      "Requirement already satisfied: httpcore==1.* in /Users/robbuckley/anaconda3/lib/python3.11/site-packages (from httpx<1,>=0.23.0->openai<2.0.0,>=1.6.1->langchain-openai) (1.0.2)\n",
      "Requirement already satisfied: h11<0.15,>=0.13 in /Users/robbuckley/anaconda3/lib/python3.11/site-packages (from httpcore==1.*->httpx<1,>=0.23.0->openai<2.0.0,>=1.6.1->langchain-openai) (0.14.0)\n",
      "Requirement already satisfied: jsonpointer>=1.9 in /Users/robbuckley/anaconda3/lib/python3.11/site-packages (from jsonpatch<2.0,>=1.33->langchain-core<0.2,>=0.1.7->langchain-openai) (2.1)\n",
      "Requirement already satisfied: annotated-types>=0.4.0 in /Users/robbuckley/anaconda3/lib/python3.11/site-packages (from pydantic<3,>=1->langchain-core<0.2,>=0.1.7->langchain-openai) (0.6.0)\n",
      "Requirement already satisfied: pydantic-core==2.14.6 in /Users/robbuckley/anaconda3/lib/python3.11/site-packages (from pydantic<3,>=1->langchain-core<0.2,>=0.1.7->langchain-openai) (2.14.6)\n",
      "Requirement already satisfied: charset-normalizer<4,>=2 in /Users/robbuckley/anaconda3/lib/python3.11/site-packages (from requests<3,>=2->langchain-core<0.2,>=0.1.7->langchain-openai) (2.0.4)\n",
      "Requirement already satisfied: urllib3<3,>=1.21.1 in /Users/robbuckley/anaconda3/lib/python3.11/site-packages (from requests<3,>=2->langchain-core<0.2,>=0.1.7->langchain-openai) (1.26.16)\n",
      "Note: you may need to restart the kernel to use updated packages.\n",
      "Collecting package metadata (current_repodata.json): done\n",
      "Solving environment: unsuccessful initial attempt using frozen solve. Retrying with flexible solve.\n",
      "Collecting package metadata (repodata.json): done\n",
      "Solving environment: unsuccessful initial attempt using frozen solve. Retrying with flexible solve.\n",
      "\n",
      "PackagesNotFoundError: The following packages are not available from current channels:\n",
      "\n",
      "  - faiss-gpu\n",
      "\n",
      "Current channels:\n",
      "\n",
      "  - https://conda.anaconda.org/pytorch/osx-arm64\n",
      "  - https://conda.anaconda.org/pytorch/noarch\n",
      "  - https://repo.anaconda.com/pkgs/main/osx-arm64\n",
      "  - https://repo.anaconda.com/pkgs/main/noarch\n",
      "  - https://repo.anaconda.com/pkgs/r/osx-arm64\n",
      "  - https://repo.anaconda.com/pkgs/r/noarch\n",
      "\n",
      "To search for alternate channels that may provide the conda package you're\n",
      "looking for, navigate to\n",
      "\n",
      "    https://anaconda.org\n",
      "\n",
      "and use the search bar at the top of the page.\n",
      "\n",
      "\n",
      "\n",
      "Note: you may need to restart the kernel to use updated packages.\n",
      "Requirement already satisfied: langchain-mistralai in /Users/robbuckley/anaconda3/lib/python3.11/site-packages (0.0.3)\n",
      "Requirement already satisfied: langchain-core<0.2,>=0.1 in /Users/robbuckley/anaconda3/lib/python3.11/site-packages (from langchain-mistralai) (0.1.11)\n",
      "Requirement already satisfied: mistralai<0.0.12,>=0.0.11 in /Users/robbuckley/anaconda3/lib/python3.11/site-packages (from langchain-mistralai) (0.0.11)\n",
      "Requirement already satisfied: PyYAML>=5.3 in /Users/robbuckley/anaconda3/lib/python3.11/site-packages (from langchain-core<0.2,>=0.1->langchain-mistralai) (6.0)\n",
      "Requirement already satisfied: anyio<5,>=3 in /Users/robbuckley/anaconda3/lib/python3.11/site-packages (from langchain-core<0.2,>=0.1->langchain-mistralai) (3.5.0)\n",
      "Requirement already satisfied: jsonpatch<2.0,>=1.33 in /Users/robbuckley/anaconda3/lib/python3.11/site-packages (from langchain-core<0.2,>=0.1->langchain-mistralai) (1.33)\n",
      "Requirement already satisfied: langsmith<0.1.0,>=0.0.63 in /Users/robbuckley/anaconda3/lib/python3.11/site-packages (from langchain-core<0.2,>=0.1->langchain-mistralai) (0.0.81)\n",
      "Requirement already satisfied: packaging<24.0,>=23.2 in /Users/robbuckley/anaconda3/lib/python3.11/site-packages (from langchain-core<0.2,>=0.1->langchain-mistralai) (23.2)\n",
      "Requirement already satisfied: pydantic<3,>=1 in /Users/robbuckley/anaconda3/lib/python3.11/site-packages (from langchain-core<0.2,>=0.1->langchain-mistralai) (2.5.3)\n",
      "Requirement already satisfied: requests<3,>=2 in /Users/robbuckley/anaconda3/lib/python3.11/site-packages (from langchain-core<0.2,>=0.1->langchain-mistralai) (2.31.0)\n",
      "Requirement already satisfied: tenacity<9.0.0,>=8.1.0 in /Users/robbuckley/anaconda3/lib/python3.11/site-packages (from langchain-core<0.2,>=0.1->langchain-mistralai) (8.2.2)\n",
      "Requirement already satisfied: httpx<0.26.0,>=0.25.2 in /Users/robbuckley/anaconda3/lib/python3.11/site-packages (from mistralai<0.0.12,>=0.0.11->langchain-mistralai) (0.25.2)\n",
      "Requirement already satisfied: orjson<4.0.0,>=3.9.10 in /Users/robbuckley/anaconda3/lib/python3.11/site-packages (from mistralai<0.0.12,>=0.0.11->langchain-mistralai) (3.9.10)\n",
      "Requirement already satisfied: idna>=2.8 in /Users/robbuckley/anaconda3/lib/python3.11/site-packages (from anyio<5,>=3->langchain-core<0.2,>=0.1->langchain-mistralai) (3.4)\n",
      "Requirement already satisfied: sniffio>=1.1 in /Users/robbuckley/anaconda3/lib/python3.11/site-packages (from anyio<5,>=3->langchain-core<0.2,>=0.1->langchain-mistralai) (1.2.0)\n",
      "Requirement already satisfied: certifi in /Users/robbuckley/anaconda3/lib/python3.11/site-packages (from httpx<0.26.0,>=0.25.2->mistralai<0.0.12,>=0.0.11->langchain-mistralai) (2023.7.22)\n",
      "Requirement already satisfied: httpcore==1.* in /Users/robbuckley/anaconda3/lib/python3.11/site-packages (from httpx<0.26.0,>=0.25.2->mistralai<0.0.12,>=0.0.11->langchain-mistralai) (1.0.2)\n",
      "Requirement already satisfied: h11<0.15,>=0.13 in /Users/robbuckley/anaconda3/lib/python3.11/site-packages (from httpcore==1.*->httpx<0.26.0,>=0.25.2->mistralai<0.0.12,>=0.0.11->langchain-mistralai) (0.14.0)\n",
      "Requirement already satisfied: jsonpointer>=1.9 in /Users/robbuckley/anaconda3/lib/python3.11/site-packages (from jsonpatch<2.0,>=1.33->langchain-core<0.2,>=0.1->langchain-mistralai) (2.1)\n",
      "Requirement already satisfied: annotated-types>=0.4.0 in /Users/robbuckley/anaconda3/lib/python3.11/site-packages (from pydantic<3,>=1->langchain-core<0.2,>=0.1->langchain-mistralai) (0.6.0)\n",
      "Requirement already satisfied: pydantic-core==2.14.6 in /Users/robbuckley/anaconda3/lib/python3.11/site-packages (from pydantic<3,>=1->langchain-core<0.2,>=0.1->langchain-mistralai) (2.14.6)\n",
      "Requirement already satisfied: typing-extensions>=4.6.1 in /Users/robbuckley/anaconda3/lib/python3.11/site-packages (from pydantic<3,>=1->langchain-core<0.2,>=0.1->langchain-mistralai) (4.7.1)\n",
      "Requirement already satisfied: charset-normalizer<4,>=2 in /Users/robbuckley/anaconda3/lib/python3.11/site-packages (from requests<3,>=2->langchain-core<0.2,>=0.1->langchain-mistralai) (2.0.4)\n",
      "Requirement already satisfied: urllib3<3,>=1.21.1 in /Users/robbuckley/anaconda3/lib/python3.11/site-packages (from requests<3,>=2->langchain-core<0.2,>=0.1->langchain-mistralai) (1.26.16)\n",
      "Note: you may need to restart the kernel to use updated packages.\n"
     ]
    }
   ],
   "source": [
    "%pip install langchain\n",
    "%pip install python-dotenv\n",
    "%pip install mistralai\n",
    "%pip install pandas\n",
    "%pip install faiss-cpu\n",
    "%pip install langchain-openai\n",
    "%conda install -c pytorch faiss-gpu\n",
    "%pip install langchain-mistralai\n",
    "\n",
    "\n",
    "from langchain_core.messages import HumanMessage\n",
    "from langchain.document_loaders.csv_loader import CSVLoader\n",
    "from langchain_community.vectorstores import FAISS\n",
    "from langchain.prompts import PromptTemplate\n",
    "from langchain_community.document_loaders import DataFrameLoader\n",
    "from langchain_openai import OpenAIEmbeddings\n",
    "from langchain.chains import LLMChain\n",
    "from mistralai.client import MistralClient  # Have to use mistral directly as langchain library is broken\n",
    "from langchain_core.messages import HumanMessage\n",
    "from langchain_mistralai.chat_models import ChatMistralAI\n",
    "from dotenv import load_dotenv\n",
    "\n",
    "import os"
   ]
  },
  {
   "cell_type": "markdown",
   "metadata": {},
   "source": [
    "## Prepare the data\n",
    "Step 1 \n",
    "Remove any values where price is between 1 and 0.\n",
    "\n",
    "Step 2\n",
    "Combine values from each row into one document column so we can feed it into the LLM\n",
    "\n",
    "Step 3 \n",
    "Add column coin type "
   ]
  },
  {
   "cell_type": "code",
   "execution_count": 119,
   "metadata": {},
   "outputs": [
    {
     "name": "stderr",
     "output_type": "stream",
     "text": [
      "/var/folders/ch/10mqzmxj0wnfv42xhl5r6vpr0000gn/T/ipykernel_78883/1421358737.py:6: SettingWithCopyWarning: \n",
      "A value is trying to be set on a copy of a slice from a DataFrame.\n",
      "Try using .loc[row_indexer,col_indexer] = value instead\n",
      "\n",
      "See the caveats in the documentation: https://pandas.pydata.org/pandas-docs/stable/user_guide/indexing.html#returning-a-view-versus-a-copy\n",
      "  clean_df['coin_type'] = 'ethereum'\n"
     ]
    }
   ],
   "source": [
    "import pandas as pd\n",
    "\n",
    "df = pd.read_csv(\"ethereum-prices.csv\") \n",
    "\n",
    "clean_df = df[df['open_price'] >= 1]\n",
    "clean_df['coin_type'] = 'ethereum'"
   ]
  },
  {
   "cell_type": "markdown",
   "metadata": {},
   "source": [
    "## 2. Read in Mistral API Key and OpenAPI Key\n",
    "Bit of hack to use both, only need openai for embeddings which will aim to move away from"
   ]
  },
  {
   "cell_type": "code",
   "execution_count": 120,
   "metadata": {},
   "outputs": [],
   "source": [
    "load_dotenv()\n",
    "mistral_api_key = os.getenv('MISTRAL_API_KEY')\n",
    "open_api_key = os.getenv('OPEN_API_KEY')"
   ]
  },
  {
   "cell_type": "markdown",
   "metadata": {},
   "source": [
    "## 3. Vectorise the ethereum data\n",
    "\n",
    "We convert it to embeddings and store in a faiss vector store."
   ]
  },
  {
   "cell_type": "code",
   "execution_count": 121,
   "metadata": {},
   "outputs": [
    {
     "name": "stdout",
     "output_type": "stream",
     "text": [
      "[Document(page_content='2024-01-17T00:00:00Z', metadata={'open_price': 2589.29, 'high_price': 2591.73, 'low_price': 2558.43, 'close_price': 2560.65, 'average_price': 2574.6510185185184, 'volume': 4014.371835845924, 'coin_type': 'ethereum'}), Document(page_content='2024-01-16T00:00:00Z', metadata={'open_price': 2508.98, 'high_price': 2613.76, 'low_price': 2501.0, 'close_price': 2587.7, 'average_price': 2546.108397626113, 'volume': 13752.889683320847, 'coin_type': 'ethereum'}), Document(page_content='2024-01-15T00:00:00Z', metadata={'open_price': 2473.59, 'high_price': 2550.3, 'low_price': 2473.59, 'close_price': 2509.17, 'average_price': 2520.5667963386727, 'volume': 13620.516250583076, 'coin_type': 'ethereum'}), Document(page_content='2024-01-14T00:00:00Z', metadata={'open_price': 2578.2, 'high_price': 2578.2, 'low_price': 2471.47, 'close_price': 2473.85, 'average_price': 2534.040058479532, 'volume': 9636.707505916576, 'coin_type': 'ethereum'}), Document(page_content='2024-01-13T00:00:00Z', metadata={'open_price': 2531.1, 'high_price': 2585.75, 'low_price': 2497.34, 'close_price': 2575.01, 'average_price': 2550.080802919708, 'volume': 7733.741031254037, 'coin_type': 'ethereum'})]\n"
     ]
    }
   ],
   "source": [
    "\n",
    "loader = DataFrameLoader(clean_df, page_content_column=\"timestamp\")\n",
    "documents = loader.load()\n",
    "print(documents[:1])\n",
    "\n",
    "embeddings = OpenAIEmbeddings(openai_api_key=open_api_key)\n",
    "vector_store = FAISS.from_documents(documents=documents, embedding=embeddings)"
   ]
  },
  {
   "cell_type": "markdown",
   "metadata": {},
   "source": [
    "## Define similarity search function\n",
    "\n",
    "This similarity search returns the top 3 results from our vector store. It relates what the query from the end user is asking to what is in the vector store. \n",
    "\n",
    "- similar_response performs the similarity search inside our vector store. \n"
   ]
  },
  {
   "cell_type": "code",
   "execution_count": null,
   "metadata": {},
   "outputs": [],
   "source": [
    "def retrieve_info(query):\n",
    "    similar_response = vector_store.similarity_search(query=query, k=3)\n",
    "    print(similar_response)\n",
    "    return similar_response"
   ]
  },
  {
   "cell_type": "markdown",
   "metadata": {},
   "source": [
    "## Now lets tune mistral to use our new data embeddings"
   ]
  },
  {
   "cell_type": "code",
   "execution_count": null,
   "metadata": {},
   "outputs": [],
   "source": [
    "llm = ChatMistralAI(mistral_api_key=mistral_api_key, model='mistral-tiny', temperature=0)\n",
    "\n",
    "\n",
    "template = \"\"\"\n",
    "You are a blockchain expert, specializing in Ethereum and telling prices. \n",
    "\n",
    "Below is a message you might receive:\n",
    "{message}\n",
    "\n",
    "Here is a list of relevant pricing data:\n",
    "{ethereum_prices}\n",
    "\n",
    "Please return pricing data\n",
    "\"\"\"\n",
    "\n",
    "prompt = PromptTemplate(\n",
    "    input_variables={\"message\", \"ethereum_prices\"},\n",
    "    template=template\n",
    ")\n",
    "\n",
    "chain = LLMChain(llm=llm, prompt=prompt)"
   ]
  },
  {
   "cell_type": "markdown",
   "metadata": {},
   "source": [
    "## Create function to generate response"
   ]
  },
  {
   "cell_type": "code",
   "execution_count": null,
   "metadata": {},
   "outputs": [],
   "source": [
    "def generate_response(message):\n",
    "    ethereum_prices = retrieve_info(message)\n",
    "    response      = chain.run(message=message,  ethereum_prices=ethereum_prices)\n",
    "    return response"
   ]
  },
  {
   "cell_type": "markdown",
   "metadata": {},
   "source": [
    "## Now test if our response generates actual correct data. \n",
    "This may actually only train on the format of data."
   ]
  },
  {
   "cell_type": "code",
   "execution_count": 117,
   "metadata": {},
   "outputs": [
    {
     "name": "stdout",
     "output_type": "stream",
     "text": [
      "[Document(page_content='2023-12-21T00:00:00Z', metadata={'open_price': 2196.43, 'high_price': 2278.19, 'low_price': 2185.11, 'close_price': 2241.29, 'average_price': 2225.0103348214284, 'volume': 13972.04538901768, 'coin_type': 'ethereum'}), Document(page_content='2023-12-31T00:00:00Z', metadata={'open_price': 2292.91, 'high_price': 2317.57, 'low_price': 2265.67, 'close_price': 2280.69, 'average_price': 2295.204309623431, 'volume': 6987.294741855056, 'coin_type': 'ethereum'}), Document(page_content='2023-12-31T00:00:00Z', metadata={'open_price': 2217.123285260862, 'high_price': 2217.123285260862, 'low_price': 2217.123285260862, 'close_price': 2217.123285260862, 'average_price': 2217.123285260862, 'volume': 0.23, 'coin_type': 'ethereum'})]\n"
     ]
    },
    {
     "data": {
      "text/plain": [
       "'Based on the provided data, there is no document with the exact timestamp of 2023-12-21T00:00:00. Therefore, I cannot provide the exact price of Ethereum on that date and time. The closest available data is from the 31st of December, 2023 with a close price of 2280.69.'"
      ]
     },
     "execution_count": 117,
     "metadata": {},
     "output_type": "execute_result"
    }
   ],
   "source": [
    "message = \"\"\"\n",
    "What was the price of ethereum on 2023-12-21T00:00:00?\n",
    "\"\"\"\n",
    "\n",
    "generate_response(message)"
   ]
  }
 ],
 "metadata": {
  "kernelspec": {
   "display_name": ".venv",
   "language": "python",
   "name": "python3"
  },
  "language_info": {
   "codemirror_mode": {
    "name": "ipython",
    "version": 3
   },
   "file_extension": ".py",
   "mimetype": "text/x-python",
   "name": "python",
   "nbconvert_exporter": "python",
   "pygments_lexer": "ipython3",
   "version": "3.11.5"
  }
 },
 "nbformat": 4,
 "nbformat_minor": 2
}
